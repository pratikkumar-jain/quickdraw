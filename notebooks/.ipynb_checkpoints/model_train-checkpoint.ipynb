{
 "cells": [
  {
   "cell_type": "code",
   "execution_count": 1,
   "metadata": {},
   "outputs": [],
   "source": [
    "import numpy as np\n",
    "import pickle"
   ]
  },
  {
   "cell_type": "code",
   "execution_count": 4,
   "metadata": {},
   "outputs": [],
   "source": [
    "from keras.models import Sequential\n",
    "from keras.layers import Conv2D\n",
    "from keras.layers import Dense, Flatten\n",
    "from keras.layers import Dropout\n",
    "from keras.layers import MaxPool2D"
   ]
  },
  {
   "cell_type": "code",
   "execution_count": 5,
   "metadata": {},
   "outputs": [],
   "source": [
    "NUM_CLASSES = 10\n",
    "INPUT_SHAPE = (28, 28,1)"
   ]
  },
  {
   "cell_type": "code",
   "execution_count": 6,
   "metadata": {},
   "outputs": [],
   "source": [
    "def data_loader():\n",
    "    with open('../training_set.pickle', 'rb') as fp:\n",
    "        training_set = pickle.load(fp)\n",
    "        \n",
    "    with open('../test_set.pickle', 'rb') as fp:\n",
    "        test_set = pickle.load(fp)\n",
    "        \n",
    "    return training_set, test_set"
   ]
  },
  {
   "cell_type": "code",
   "execution_count": 7,
   "metadata": {},
   "outputs": [],
   "source": [
    "def model():\n",
    "    model = Sequential()\n",
    "    model.add(Conv2D(filters=32, kernel_size=(3,3), activation='relu', padding='same', input_shape = INPUT_SHAPE))\n",
    "    model.add(Conv2D(filters=64, kernel_size=(2,2), padding='same', activation='relu'))\n",
    "    model.add(MaxPool2D(pool_size=(2, 2)))\n",
    "    model.add(Dropout(0.3))\n",
    "    model.add(Conv2D(64, (2,2), activation='relu'))\n",
    "    model.add(Dropout(0.6))\n",
    "    model.add(Flatten())\n",
    "    model.add(Dense(128, activation='relu'))\n",
    "    model.add(Dropout(0.6))\n",
    "    model.add(Dense(units=NUM_CLASSES, activation='softmax'))\n",
    "    model.compile(loss='categorical_crossentropy', optimizer='adam', metrics=['accuracy'])\n",
    "                     \n",
    "    return model"
   ]
  },
  {
   "cell_type": "code",
   "execution_count": 8,
   "metadata": {},
   "outputs": [],
   "source": [
    "def train(model, training_set, test_set):\n",
    "    (X_train, y_train) = training_set\n",
    "    (X_test, y_test) = test_set\n",
    "    model.summary()\n",
    "    model.fit(X_train, y_train, validation_data=(X_test, y_test), epochs=5, batch_size=64)\n",
    "    model.save('../model_quickdraw.h5')\n",
    "    \n",
    "    return model"
   ]
  },
  {
   "cell_type": "code",
   "execution_count": 9,
   "metadata": {
    "scrolled": false
   },
   "outputs": [
    {
     "name": "stdout",
     "output_type": "stream",
     "text": [
      "_________________________________________________________________\n",
      "Layer (type)                 Output Shape              Param #   \n",
      "=================================================================\n",
      "conv2d_1 (Conv2D)            (None, 28, 28, 32)        320       \n",
      "_________________________________________________________________\n",
      "conv2d_2 (Conv2D)            (None, 28, 28, 64)        8256      \n",
      "_________________________________________________________________\n",
      "max_pooling2d_1 (MaxPooling2 (None, 14, 14, 64)        0         \n",
      "_________________________________________________________________\n",
      "dropout_1 (Dropout)          (None, 14, 14, 64)        0         \n",
      "_________________________________________________________________\n",
      "conv2d_3 (Conv2D)            (None, 13, 13, 64)        16448     \n",
      "_________________________________________________________________\n",
      "dropout_2 (Dropout)          (None, 13, 13, 64)        0         \n",
      "_________________________________________________________________\n",
      "flatten_1 (Flatten)          (None, 10816)             0         \n",
      "_________________________________________________________________\n",
      "dense_1 (Dense)              (None, 128)               1384576   \n",
      "_________________________________________________________________\n",
      "dropout_3 (Dropout)          (None, 128)               0         \n",
      "_________________________________________________________________\n",
      "dense_2 (Dense)              (None, 10)                1290      \n",
      "=================================================================\n",
      "Total params: 1,410,890\n",
      "Trainable params: 1,410,890\n",
      "Non-trainable params: 0\n",
      "_________________________________________________________________\n",
      "Train on 127500 samples, validate on 22500 samples\n",
      "Epoch 1/5\n",
      "127500/127500 [==============================] - 286s 2ms/step - loss: 0.5065 - acc: 0.8458 - val_loss: 0.2543 - val_acc: 0.9236\n",
      "Epoch 2/5\n",
      "127500/127500 [==============================] - 290s 2ms/step - loss: 0.3293 - acc: 0.9034 - val_loss: 0.2142 - val_acc: 0.9349\n",
      "Epoch 3/5\n",
      "127500/127500 [==============================] - 271s 2ms/step - loss: 0.2936 - acc: 0.9132 - val_loss: 0.2065 - val_acc: 0.9368\n",
      "Epoch 4/5\n",
      "127500/127500 [==============================] - 272s 2ms/step - loss: 0.2778 - acc: 0.9183 - val_loss: 0.1978 - val_acc: 0.9396\n",
      "Epoch 5/5\n",
      "127500/127500 [==============================] - 270s 2ms/step - loss: 0.2610 - acc: 0.9223 - val_loss: 0.1915 - val_acc: 0.9425\n"
     ]
    }
   ],
   "source": [
    "if __name__=='__main__':\n",
    "    training_set, test_set = data_loader()\n",
    "    model = model()\n",
    "    model = train(model, training_set, test_set)"
   ]
  },
  {
   "cell_type": "code",
   "execution_count": null,
   "metadata": {},
   "outputs": [],
   "source": []
  }
 ],
 "metadata": {
  "kernelspec": {
   "display_name": "Python 3",
   "language": "python",
   "name": "python3"
  },
  "language_info": {
   "codemirror_mode": {
    "name": "ipython",
    "version": 3
   },
   "file_extension": ".py",
   "mimetype": "text/x-python",
   "name": "python",
   "nbconvert_exporter": "python",
   "pygments_lexer": "ipython3",
   "version": "3.6.5"
  }
 },
 "nbformat": 4,
 "nbformat_minor": 2
}
